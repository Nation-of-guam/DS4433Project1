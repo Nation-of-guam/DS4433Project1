{
 "cells": [
  {
   "cell_type": "code",
   "execution_count": null,
   "id": "b04fa04e",
   "metadata": {},
   "outputs": [],
   "source": [
    "import pandas as pd\n",
    "import random"
   ]
  },
  {
   "cell_type": "code",
   "execution_count": 7,
   "id": "d6216b97",
   "metadata": {},
   "outputs": [
    {
     "name": "stdout",
     "output_type": "stream",
     "text": [
      "2\n"
     ]
    }
   ],
   "source": [
    "unique_ID = []\n",
    "for i in range(1, 20000000):\n",
    "    unique_ID.append(i)"
   ]
  },
  {
   "cell_type": "code",
   "execution_count": null,
   "id": "92ef61ed",
   "metadata": {},
   "outputs": [],
   "source": [
    "person_ID = []\n",
    "for i in range(1, 200001):\n",
    "    person_ID.append(i)"
   ]
  },
  {
   "cell_type": "code",
   "execution_count": null,
   "id": "2ee57597",
   "metadata": {},
   "outputs": [],
   "source": [
    "friends_ID = []\n",
    "for i in range(1, 200001):\n",
    "    friends_ID.append(int(200000*random.random()))"
   ]
  },
  {
   "cell_type": "code",
   "execution_count": null,
   "id": "b3faf20d",
   "metadata": {},
   "outputs": [],
   "source": [
    "friend_start = []\n",
    "for i in range(1, 200001):\n",
    "    friends_start.append(int(1000000*random.random()))"
   ]
  },
  {
   "cell_type": "code",
   "execution_count": 11,
   "id": "09afba37",
   "metadata": {},
   "outputs": [
    {
     "name": "stdout",
     "output_type": "stream",
     "text": [
      "my best friend from college\n"
     ]
    }
   ],
   "source": [
    "\n",
    "Description_arr = [\"It's pretty complicated\", \"I don't really know where I met them\",\"Girlfriend I met somewhere\",\"my best friend from college\",\"college roomate for a year\"]\n",
    "relationship_arr = []\n",
    "for i in range(1,200001):\n",
    "    relationship_arr.append((Description_arr[int(5*random.random())]))    "
   ]
  },
  {
   "cell_type": "code",
   "execution_count": null,
   "id": "b6b1718b",
   "metadata": {},
   "outputs": [],
   "source": [
    "gimmie_peeps = []"
   ]
  },
  {
   "cell_type": "code",
   "execution_count": null,
   "id": "c5c52579",
   "metadata": {},
   "outputs": [],
   "source": [
    "df = pd.DataFrame(gimmie_peeps, columns = [person_ID, friends_ID, friend_start, Description_arr])\n",
    "df_id = pd.Data(unique_id)\n",
    "df.to_csv(\"MyPage\")\n",
    "df_id.to_csv(\"MyPage\")"
   ]
  },
  {
   "cell_type": "code",
   "execution_count": null,
   "id": "a9a71098",
   "metadata": {},
   "outputs": [],
   "source": []
  }
 ],
 "metadata": {
  "kernelspec": {
   "display_name": "Python 3 (ipykernel)",
   "language": "python",
   "name": "python3"
  },
  "language_info": {
   "codemirror_mode": {
    "name": "ipython",
    "version": 3
   },
   "file_extension": ".py",
   "mimetype": "text/x-python",
   "name": "python",
   "nbconvert_exporter": "python",
   "pygments_lexer": "ipython3",
   "version": "3.9.13"
  }
 },
 "nbformat": 4,
 "nbformat_minor": 5
}
