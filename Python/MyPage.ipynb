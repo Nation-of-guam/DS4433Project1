{
 "cells": [
  {
   "cell_type": "code",
   "execution_count": 1,
   "outputs": [],
   "source": [
    "import pandas as pd\n",
    "import random\n",
    "import numpy as np"
   ],
   "metadata": {
    "collapsed": false,
    "pycharm": {
     "name": "#%%\n"
    }
   }
  },
  {
   "cell_type": "markdown",
   "source": [
    "Loading in Other people's data"
   ],
   "metadata": {
    "collapsed": false,
    "pycharm": {
     "name": "#%% md\n"
    }
   }
  },
  {
   "cell_type": "code",
   "execution_count": 2,
   "outputs": [
    {
     "name": "stdout",
     "output_type": "stream",
     "text": [
      "(150, 2)\n",
      "(1825433, 5)\n",
      "(215, 6)\n"
     ]
    }
   ],
   "source": [
    "# https://www.kaggle.com/datasets/miroslavsabo/young-people-survey?resource=download\n",
    "pass_times = pd.read_csv(\"hobbies.csv\")\n",
    "h = 149\n",
    "print(pass_times.shape)\n",
    "# https://www.kaggle.com/datasets/kaggle/us-baby-names?select=StateNames.csv\n",
    "first_names = pd.read_csv(\"NationalNames.csv\")\n",
    "f = 1825432\n",
    "print(first_names.shape)\n",
    "# https://www.kaggle.com/datasets/tanuprabhu/list-of-countries-by-number-of-internet-users\n",
    "nationali = pd.read_csv(\"List of Countries by number of Internet Users - Sheet1.csv\")\n",
    "print(nationali.shape)\n",
    "c = 214"
   ],
   "metadata": {
    "collapsed": false,
    "pycharm": {
     "name": "#%%\n"
    }
   }
  },
  {
   "cell_type": "code",
   "execution_count": 3,
   "outputs": [
    {
     "data": {
      "text/plain": "                      original                     short\n0  I enjoy listening to music.                     Music\n1                    I prefer.  Slow songs or fast songs\n2           Dance, Disco, Funk                     Dance\n3                   Folk music                      Folk\n4                      Country                   Country",
      "text/html": "<div>\n<style scoped>\n    .dataframe tbody tr th:only-of-type {\n        vertical-align: middle;\n    }\n\n    .dataframe tbody tr th {\n        vertical-align: top;\n    }\n\n    .dataframe thead th {\n        text-align: right;\n    }\n</style>\n<table border=\"1\" class=\"dataframe\">\n  <thead>\n    <tr style=\"text-align: right;\">\n      <th></th>\n      <th>original</th>\n      <th>short</th>\n    </tr>\n  </thead>\n  <tbody>\n    <tr>\n      <th>0</th>\n      <td>I enjoy listening to music.</td>\n      <td>Music</td>\n    </tr>\n    <tr>\n      <th>1</th>\n      <td>I prefer.</td>\n      <td>Slow songs or fast songs</td>\n    </tr>\n    <tr>\n      <th>2</th>\n      <td>Dance, Disco, Funk</td>\n      <td>Dance</td>\n    </tr>\n    <tr>\n      <th>3</th>\n      <td>Folk music</td>\n      <td>Folk</td>\n    </tr>\n    <tr>\n      <th>4</th>\n      <td>Country</td>\n      <td>Country</td>\n    </tr>\n  </tbody>\n</table>\n</div>"
     },
     "execution_count": 3,
     "metadata": {},
     "output_type": "execute_result"
    }
   ],
   "source": [
    "pass_times.head(5)"
   ],
   "metadata": {
    "collapsed": false,
    "pycharm": {
     "name": "#%%\n"
    }
   }
  },
  {
   "cell_type": "markdown",
   "source": [
    "               ID: unique  sequential  number  (integer)  from  1  to 200,000 indicating the owner of the page (there will be 200,000 lines)\n",
    "\n",
    "Name: characters of length between 10 and 20 (do not use commas inside this string)\n",
    "\n",
    "Nationality: characters of length between 10 and 20 (do not usecommas inside this string)\n",
    "\n",
    "CountryCode: number (integer) between 1 and 50\n",
    "\n",
    "Hobby: sequence of characters of length between 10 and20 characters"
   ],
   "metadata": {
    "collapsed": false,
    "pycharm": {
     "name": "#%% md\n"
    }
   }
  },
  {
   "cell_type": "code",
   "execution_count": 17,
   "outputs": [],
   "source": [
    "peeps = []\n",
    "\n",
    "for i in range(1,200001):\n",
    "    rand = random.random()\n",
    "\n",
    "    hob = int(h*rand)\n",
    "    hobby = pass_times['short'].loc[hob]\n",
    "    onHob = hobby\n",
    "    if len(hobby) < 10:\n",
    "        for n in range(int(20/len(hobby))-1):\n",
    "            hobby = hobby + onHob\n",
    "    elif len(hobby) > 20:\n",
    "        hobby = hobby[0:15]\n",
    "\n",
    "\n",
    "    fir = int(f*rand)\n",
    "    name = first_names['Name'].loc[fir]\n",
    "    onName =  name\n",
    "    if len(name) < 10:\n",
    "        for n in range(int(20/len(name))-1):\n",
    "            name = name + onName\n",
    "    elif len(name) > 20:\n",
    "        name = name[0:15]\n",
    "\n",
    "    nation = nationali['Country or Area'].loc[int(c*rand)]\n",
    "    onNation = nation\n",
    "    if len(nation) < 10:\n",
    "        for n in range(int(20/len(nation))-1):\n",
    "            nation = nation + onNation\n",
    "    elif len(nation) > 20:\n",
    "        nation = nation[0:15]\n",
    "\n",
    "    peeps.append([nation, hobby, int(50*rand)+1, name])\n",
    "\n"
   ],
   "metadata": {
    "collapsed": false,
    "pycharm": {
     "name": "#%%\n"
    }
   }
  },
  {
   "cell_type": "code",
   "execution_count": 18,
   "outputs": [
    {
     "data": {
      "text/plain": "               Nation                Hobby  Country                  Name\n1          Montenegro          Punctuality       36  LilieLilieLilieLilie\n2         El Salvador          Reliability       28      JoselyneJoselyne\n3         Puerto Rico       Dangerous dogs       25  AdinAdinAdinAdinAdin\n4         Puerto Rico      Fear of public        25      CharlineCharline\n5  MonacoMonacoMonaco  Spending on gadgets       47    KyrienKyrienKyrien",
      "text/html": "<div>\n<style scoped>\n    .dataframe tbody tr th:only-of-type {\n        vertical-align: middle;\n    }\n\n    .dataframe tbody tr th {\n        vertical-align: top;\n    }\n\n    .dataframe thead th {\n        text-align: right;\n    }\n</style>\n<table border=\"1\" class=\"dataframe\">\n  <thead>\n    <tr style=\"text-align: right;\">\n      <th></th>\n      <th>Nation</th>\n      <th>Hobby</th>\n      <th>Country</th>\n      <th>Name</th>\n    </tr>\n  </thead>\n  <tbody>\n    <tr>\n      <th>1</th>\n      <td>Montenegro</td>\n      <td>Punctuality</td>\n      <td>36</td>\n      <td>LilieLilieLilieLilie</td>\n    </tr>\n    <tr>\n      <th>2</th>\n      <td>El Salvador</td>\n      <td>Reliability</td>\n      <td>28</td>\n      <td>JoselyneJoselyne</td>\n    </tr>\n    <tr>\n      <th>3</th>\n      <td>Puerto Rico</td>\n      <td>Dangerous dogs</td>\n      <td>25</td>\n      <td>AdinAdinAdinAdinAdin</td>\n    </tr>\n    <tr>\n      <th>4</th>\n      <td>Puerto Rico</td>\n      <td>Fear of public</td>\n      <td>25</td>\n      <td>CharlineCharline</td>\n    </tr>\n    <tr>\n      <th>5</th>\n      <td>MonacoMonacoMonaco</td>\n      <td>Spending on gadgets</td>\n      <td>47</td>\n      <td>KyrienKyrienKyrien</td>\n    </tr>\n  </tbody>\n</table>\n</div>"
     },
     "execution_count": 18,
     "metadata": {},
     "output_type": "execute_result"
    }
   ],
   "source": [
    "df = pd.DataFrame(peeps, columns=[\"Nation\", \"Hobby\", \"Country\", \"Name\"], index=range(1,200001))\n",
    "df.head(5)"
   ],
   "metadata": {
    "collapsed": false,
    "pycharm": {
     "name": "#%%\n"
    }
   }
  },
  {
   "cell_type": "code",
   "execution_count": 19,
   "outputs": [],
   "source": [
    "df.to_csv(\"MyPage.csv\")"
   ],
   "metadata": {
    "collapsed": false,
    "pycharm": {
     "name": "#%%\n"
    }
   }
  }
 ],
 "metadata": {
  "kernelspec": {
   "display_name": "Python 3",
   "language": "python",
   "name": "python3"
  },
  "language_info": {
   "codemirror_mode": {
    "name": "ipython",
    "version": 2
   },
   "file_extension": ".py",
   "mimetype": "text/x-python",
   "name": "python",
   "nbconvert_exporter": "python",
   "pygments_lexer": "ipython2",
   "version": "2.7.6"
  }
 },
 "nbformat": 4,
 "nbformat_minor": 0
}