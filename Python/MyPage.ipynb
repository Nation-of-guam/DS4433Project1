{
 "cells": [
  {
   "cell_type": "code",
   "execution_count": null,
   "outputs": [],
   "source": [
    "import pandas as pd\n",
    "import random\n",
    "import numpy as np"
   ],
   "metadata": {
    "collapsed": false,
    "pycharm": {
     "name": "#%%\n",
     "is_executing": true
    }
   }
  },
  {
   "cell_type": "markdown",
   "source": [
    "Loading in Other people's data"
   ],
   "metadata": {
    "collapsed": false,
    "pycharm": {
     "name": "#%% md\n"
    }
   }
  },
  {
   "cell_type": "code",
   "execution_count": null,
   "outputs": [],
   "source": [
    "# https://www.kaggle.com/datasets/miroslavsabo/young-people-survey?resource=download\n",
    "pass_times = pd.read_csv(\"hobbies.csv\")\n",
    "h = 149\n",
    "print(pass_times.shape)\n",
    "# https://www.kaggle.com/datasets/kaggle/us-baby-names?select=StateNames.csv\n",
    "first_names = pd.read_csv(\"NationalNames.csv\")\n",
    "f = 1825432\n",
    "print(first_names.shape)\n",
    "# https://www.kaggle.com/datasets/tanuprabhu/list-of-countries-by-number-of-internet-users\n",
    "nationali = pd.read_csv(\"List of Countries by number of Internet Users - Sheet1.csv\")\n",
    "print(nationali.shape)\n",
    "c = 214"
   ],
   "metadata": {
    "collapsed": false,
    "pycharm": {
     "name": "#%%\n"
    }
   }
  },
  {
   "cell_type": "code",
   "execution_count": null,
   "outputs": [],
   "source": [
    "pass_times.head(5)"
   ],
   "metadata": {
    "collapsed": false,
    "pycharm": {
     "name": "#%%\n"
    }
   }
  },
  {
   "cell_type": "markdown",
   "source": [
    "               ID: unique  sequential  number  (integer)  from  1  to 200,000 indicating the owner of the page (there will be 200,000 lines)\n",
    "\n",
    "Name: characters of length between 10 and 20 (do not use commas inside this string)\n",
    "\n",
    "Nationality: characters of length between 10 and 20 (do not usecommas inside this string)\n",
    "\n",
    "CountryCode: number (integer) between 1 and 50\n",
    "\n",
    "Hobby: sequence of characters of length between 10 and20 characters"
   ],
   "metadata": {
    "collapsed": false,
    "pycharm": {
     "name": "#%% md\n"
    }
   }
  },
  {
   "cell_type": "code",
   "execution_count": null,
   "outputs": [],
   "source": [
    "peeps = []\n",
    "\n",
    "for i in range(1,200001):\n",
    "    rand = random.random()\n",
    "\n",
    "    hob = int(h*rand)\n",
    "    hobby = pass_times['short'].loc[hob]\n",
    "    onHob = hobby\n",
    "    if len(hobby) < 10:\n",
    "        for n in range(int(20/len(hobby))):\n",
    "            hobby = hobby + onHob\n",
    "    elif len(hobby) > 20:\n",
    "        hobby = hobby[0:15]\n",
    "\n",
    "\n",
    "    fir = int(f*rand)\n",
    "    name = first_names['Name'].loc[fir]\n",
    "    onName =  name\n",
    "    if len(name) < 10:\n",
    "        for n in range(int(20/len(name))):\n",
    "            name = name + onName\n",
    "    elif len(name) > 20:\n",
    "        name = name[0:15]\n",
    "\n",
    "    nation = nationali['Country or Area'].loc[int(c*rand)]\n",
    "    onNation = nation\n",
    "    if len(nation) < 10:\n",
    "        for n in range(int(20/len(nation))):\n",
    "            nation = nation + onNation\n",
    "    elif len(nation) > 20:\n",
    "        nation = nation[0:15]\n",
    "\n",
    "    peeps.append([i, nation, hobby, int(50*rand)+1, name])\n",
    "\n"
   ],
   "metadata": {
    "collapsed": false,
    "pycharm": {
     "name": "#%%\n",
     "is_executing": true
    }
   }
  },
  {
   "cell_type": "code",
   "execution_count": null,
   "outputs": [],
   "source": [],
   "metadata": {
    "collapsed": false,
    "pycharm": {
     "name": "#%%\n"
    }
   }
  },
  {
   "cell_type": "code",
   "execution_count": null,
   "outputs": [],
   "source": [
    "df = pd.DataFrame(peeps, columns=[\"id\",\"Nation\", \"Hobby\", \"Country\", \"Name\"])"
   ],
   "metadata": {
    "collapsed": false,
    "pycharm": {
     "name": "#%%\n"
    }
   }
  },
  {
   "cell_type": "code",
   "execution_count": null,
   "outputs": [],
   "source": [
    "df.to_csv(\"MyPage\")"
   ],
   "metadata": {
    "collapsed": false,
    "pycharm": {
     "name": "#%%\n"
    }
   }
  },
  {
   "cell_type": "code",
   "execution_count": 25,
   "outputs": [],
   "source": [
    "peeps = []\n",
    "\n",
    "for i in range(1,200001):\n",
    "    rand = random.random()\n",
    "\n",
    "    hob = int(h*rand)\n",
    "    hobby = pass_times['short'].loc[hob]\n",
    "    if len(hobby) < 10:\n",
    "        for n in range(int(20/len(hobby))):\n",
    "            hobby = hobby + hobby\n",
    "    elif len(hobby) > 20:\n",
    "        hobby = hobby[0:15]\n",
    "\n",
    "\n",
    "    fir = int(f*rand)\n",
    "    name = first_names['Name'].loc[fir]\n",
    "    if len(name) < 10:\n",
    "        for n in range(int(20/len(name))):\n",
    "            name = name + name\n",
    "    elif len(name) > 20:\n",
    "        name = name[0:15]\n",
    "\n",
    "    nation = nationali['Country or Area'].loc[int(c*rand)]\n",
    "    if len(nation) < 10:\n",
    "        for n in range(int(20/len(nation))):\n",
    "            nation = nation + nation\n",
    "    elif len(nation) > 20:\n",
    "        nation = nation[0:15]\n",
    "\n",
    "    peeps.append([i, nation, hobby, int(50*rand)+1, name])\n",
    "\n"
   ],
   "metadata": {
    "collapsed": false,
    "pycharm": {
     "name": "#%%\n"
    }
   }
  },
  {
   "cell_type": "code",
   "execution_count": 23,
   "outputs": [
    {
     "data": {
      "text/plain": "(200000,)"
     },
     "execution_count": 23,
     "metadata": {},
     "output_type": "execute_result"
    }
   ],
   "source": [],
   "metadata": {
    "collapsed": false,
    "pycharm": {
     "name": "#%%\n"
    }
   }
  },
  {
   "cell_type": "code",
   "execution_count": 26,
   "outputs": [],
   "source": [
    "df = pd.DataFrame(peeps, columns=[\"id\",\"Nation\", \"Hobby\", \"Country\", \"Name\"])"
   ],
   "metadata": {
    "collapsed": false,
    "pycharm": {
     "name": "#%%\n"
    }
   }
  },
  {
   "cell_type": "code",
   "execution_count": null,
   "outputs": [],
   "source": [
    "df.to_csv(\"MyPage\")"
   ],
   "metadata": {
    "collapsed": false,
    "pycharm": {
     "name": "#%%\n"
    }
   }
  }
 ],
 "metadata": {
  "kernelspec": {
   "display_name": "Python 3",
   "language": "python",
   "name": "python3"
  },
  "language_info": {
   "codemirror_mode": {
    "name": "ipython",
    "version": 2
   },
   "file_extension": ".py",
   "mimetype": "text/x-python",
   "name": "python",
   "nbconvert_exporter": "python",
   "pygments_lexer": "ipython2",
   "version": "2.7.6"
  }
 },
 "nbformat": 4,
 "nbformat_minor": 0
}