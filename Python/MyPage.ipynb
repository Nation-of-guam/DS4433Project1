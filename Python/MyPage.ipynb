{
 "cells": [
  {
   "cell_type": "code",
   "execution_count": 94,
   "metadata": {
    "collapsed": true,
    "pycharm": {
     "name": "#%%\n"
    }
   },
   "outputs": [],
   "source": [
    "import pandas as pd\n",
    "import random"
   ]
  },
  {
   "cell_type": "markdown",
   "source": [
    "Loading in Other people's data"
   ],
   "metadata": {
    "collapsed": false,
    "pycharm": {
     "name": "#%% md\n"
    }
   }
  },
  {
   "cell_type": "code",
   "execution_count": 98,
   "outputs": [],
   "source": [
    "# https://www.kaggle.com/datasets/miroslavsabo/young-people-survey?resource=download\n",
    "hobbies = pd.read_csv(\"hobbies.csv\")\n",
    "# https://www.kaggle.com/datasets/kaggle/us-baby-names?select=StateNames.csv\n",
    "first_names = pd.read_csv(\"NationalNames.csv\")\n",
    "# https://www.kaggle.com/datasets/jojo1000/facebook-last-names-with-count\n",
    "last_names = pd.read_csv(\"polish_surnames.txt\")\n"
   ],
   "metadata": {
    "collapsed": false,
    "pycharm": {
     "name": "#%%\n"
    }
   }
  },
  {
   "cell_type": "code",
   "execution_count": 96,
   "outputs": [],
   "source": [
    "id_page = range(1,20001)\n",
    "nationality = []\n",
    "\n",
    "\n",
    "for i in range(1,20000):\n",
    "    nationality.append(int(50*random.random())+1)\n",
    "\n"
   ],
   "metadata": {
    "collapsed": false,
    "pycharm": {
     "name": "#%%\n"
    }
   }
  },
  {
   "cell_type": "code",
   "execution_count": 97,
   "outputs": [
    {
     "name": "stdout",
     "output_type": "stream",
     "text": [
      "Unexpected exception formatting exception. Falling back to standard exception\n"
     ]
    },
    {
     "name": "stderr",
     "output_type": "stream",
     "text": [
      "Traceback (most recent call last):\n",
      "  File \"/home/aidan/codinShit/pythonProject1/venv/lib/python3.10/site-packages/IPython/core/interactiveshell.py\", line 3442, in run_code\n",
      "  File \"/tmp/ipykernel_19252/1163051897.py\", line 1, in <module>\n",
      "    print(hobbies.head(5))\n",
      "  File \"/home/aidan/codinShit/pythonProject1/venv/lib/python3.10/site-packages/pandas/core/frame.py\", line 1064, in __repr__\n",
      "  File \"/home/aidan/codinShit/pythonProject1/venv/lib/python3.10/site-packages/pandas/core/frame.py\", line 1245, in to_string\n",
      "  File \"/home/aidan/codinShit/pythonProject1/venv/lib/python3.10/site-packages/pandas/io/formats/format.py\", line 1133, in to_string\n",
      "ModuleNotFoundError: No module named 'pandas.io.formats.string'\n",
      "\n",
      "During handling of the above exception, another exception occurred:\n",
      "\n",
      "Traceback (most recent call last):\n",
      "  File \"/home/aidan/codinShit/pythonProject1/venv/lib/python3.10/site-packages/pygments/styles/__init__.py\", line 82, in get_style_by_name\n",
      "ModuleNotFoundError: No module named 'pygments.styles.default'\n",
      "\n",
      "During handling of the above exception, another exception occurred:\n",
      "\n",
      "Traceback (most recent call last):\n",
      "  File \"/home/aidan/codinShit/pythonProject1/venv/lib/python3.10/site-packages/IPython/core/interactiveshell.py\", line 2057, in showtraceback\n",
      "  File \"/home/aidan/codinShit/pythonProject1/venv/lib/python3.10/site-packages/IPython/core/ultratb.py\", line 1118, in structured_traceback\n",
      "  File \"/home/aidan/codinShit/pythonProject1/venv/lib/python3.10/site-packages/IPython/core/ultratb.py\", line 1012, in structured_traceback\n",
      "  File \"/home/aidan/codinShit/pythonProject1/venv/lib/python3.10/site-packages/IPython/core/ultratb.py\", line 865, in structured_traceback\n",
      "  File \"/home/aidan/codinShit/pythonProject1/venv/lib/python3.10/site-packages/IPython/core/ultratb.py\", line 799, in format_exception_as_a_whole\n",
      "  File \"/home/aidan/codinShit/pythonProject1/venv/lib/python3.10/site-packages/IPython/core/ultratb.py\", line 844, in get_records\n",
      "  File \"/home/aidan/codinShit/pythonProject1/venv/lib/python3.10/site-packages/pygments/styles/__init__.py\", line 84, in get_style_by_name\n",
      "pygments.util.ClassNotFound: Could not find style module 'default', though it should be builtin.\n"
     ]
    }
   ],
   "source": [
    "print(hobbies.head(5))\n"
   ],
   "metadata": {
    "collapsed": false,
    "pycharm": {
     "name": "#%%\n"
    }
   }
  }
 ],
 "metadata": {
  "kernelspec": {
   "display_name": "Python 3",
   "language": "python",
   "name": "python3"
  },
  "language_info": {
   "codemirror_mode": {
    "name": "ipython",
    "version": 2
   },
   "file_extension": ".py",
   "mimetype": "text/x-python",
   "name": "python",
   "nbconvert_exporter": "python",
   "pygments_lexer": "ipython2",
   "version": "2.7.6"
  }
 },
 "nbformat": 4,
 "nbformat_minor": 0
}